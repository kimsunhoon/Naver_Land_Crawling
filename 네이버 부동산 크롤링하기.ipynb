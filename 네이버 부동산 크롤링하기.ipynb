{
 "cells": [
  {
   "cell_type": "code",
   "execution_count": 5,
   "metadata": {},
   "outputs": [
    {
     "name": "stdout",
     "output_type": "stream",
     "text": [
      "상가 이름: 중소형사무실 , 가격: 1억 5,000/1,200, 주소: 292/231m², 4/7층, 동향\n",
      "상가 이름: 대형사무실 , 가격: 1억 2,000/800, 주소: 287/242m², 6/9층, 남향\n",
      "상가 이름: 대형사무실 , 가격: 2억 6,000/1,750, 주소: 394/394m², 6/7층, 남향\n",
      "상가 이름: 중소형사무실 , 가격: 1억 7,000/700, 주소: 743/241m², B1/7층, 서향\n",
      "상가 이름: 대형사무실 , 가격: 2억 4,000/1,500, 주소: 329/266m², 7/7층, 남향\n",
      "상가 이름: 중소형사무실 , 가격: 7,000/550, 주소: 247/208m², 7/8층, 동향\n",
      "상가 이름: 중소형사무실 , 가격: 2,000/130, 주소: 51/46m², 2/5층, 동향\n",
      "상가 이름: 중소형사무실 , 가격: 8,000/950, 주소: 316/251m², 8/12층, 동향\n",
      "상가 이름: 중소형사무실 , 가격: 5,000/550, 주소: 160/160m², 3/5층, 동향\n",
      "상가 이름: 중소형사무실 , 가격: 2,500/120, 주소: 63/50m², 2/7층, 북향\n",
      "상가 이름: 중소형사무실 , 가격: 1억 5,000/1,100, 주소: 595/290m², 2/16층, 남향\n",
      "상가 이름: 중소형사무실 , 가격: 8,000/580, 주소: 213/165m², 5/14층, 남향\n",
      "상가 이름: 중소형사무실 , 가격: 2,500/120, 주소: 63/50m², 2/7층, 북향\n",
      "상가 이름: 중소형사무실 , 가격: 1억/550, 주소: 275/231m², 6/8층, 남향\n",
      "상가 이름: 중소형사무실 , 가격: 8,000/750, 주소: 264/181m², 4/6층, 북향\n",
      "상가 이름: 중소형사무실 , 가격: 8,000/580, 주소: 213/165m², 5/14층, 북동향\n",
      "상가 이름: 중소형사무실 , 가격: 1억 5,000/780, 주소: 355/307m², 4/6층, 동향\n",
      "상가 이름: 중소형사무실 , 가격: 2억 5,000/1,500, 주소: 320/320m², 1/2층, 남향\n",
      "상가 이름: 중소형사무실 , 가격: 6,500/450, 주소: 236/160m², 9/9층, 남향\n",
      "상가 이름: 중소형사무실 , 가격: 9,000/650, 주소: 162/162m², 6/7층, 북향\n"
     ]
    }
   ],
   "source": [
    "# 셀레니움 활용해서 만들음\n",
    "from selenium import webdriver\n",
    "from selenium.webdriver.common.by import By\n",
    "from selenium.webdriver.support.ui import WebDriverWait\n",
    "from selenium.webdriver.support import expected_conditions as EC\n",
    "from bs4 import BeautifulSoup\n",
    "\n",
    "# url에다 검색할 때 사용한 주소 그대로 복붙하면 됨\n",
    "url = \"https://new.land.naver.com/offices?ms=37.514792,127.055387,16&a=SG:SMS:GJCG:APTHGJ:GM:TJ&e=RETAIL\"\n",
    "driver = webdriver.Chrome()  \n",
    "driver.get(url)\n",
    "\n",
    "# 데이터 불러오는데 시간 오래걸려서 대기 시간 집어넣은거임\n",
    "wait = WebDriverWait(driver, 10)  \n",
    "\n",
    "try:\n",
    "    # 이거도 대기\n",
    "    wait.until(EC.presence_of_element_located((By.CLASS_NAME, 'item_inner')))\n",
    "\n",
    "    # 셀레니움 써서 로딩된 페이지의 HTML 구조 가저옴\n",
    "    html = driver.page_source\n",
    "    soup = BeautifulSoup(html, 'html.parser')\n",
    "\n",
    "    # item_inner 여기에 부동산 정보들 다 들어있음. 그래서 저기다가 부동산 리스트 만들어서 집어넣었음.\n",
    "    shops = soup.find_all('div', class_='item_inner')\n",
    "\n",
    "    for shop in shops:\n",
    "        # 개발자도구 켜서 내가 원하는 정보가 어떤 html 태그로 구성되어있는지 확인해서 집어넣으면됨\n",
    "        #number_element = shop.find('span', class_='spec')\n",
    "        name_element = shop.find('span', class_='text')  \n",
    "        price_element = shop.find('span', class_='price')\n",
    "        address_element = shop.find('span', class_='spec')\n",
    "\n",
    "        if name_element and price_element:\n",
    "            #number = number_element.get_text()   \n",
    "            name = name_element.get_text()\n",
    "            price = price_element.get_text()\n",
    "            address = address_element.get_text()\n",
    "            print(f\"상가 이름: {name}, 가격: {price}, 주소: {address}\")\n",
    "        else:\n",
    "            print(\"상가 정보를 찾을 수 없습니다.\") # 만약 데이터 못 가져와서 오류나면 다음과 같이 출력됨.\n",
    "\n",
    "finally:\n",
    "    driver.quit() \n"
   ]
  }
 ],
 "metadata": {
  "kernelspec": {
   "display_name": "Python 3",
   "language": "python",
   "name": "python3"
  },
  "language_info": {
   "codemirror_mode": {
    "name": "ipython",
    "version": 3
   },
   "file_extension": ".py",
   "mimetype": "text/x-python",
   "name": "python",
   "nbconvert_exporter": "python",
   "pygments_lexer": "ipython3",
   "version": "3.9.10"
  },
  "orig_nbformat": 4
 },
 "nbformat": 4,
 "nbformat_minor": 2
}
